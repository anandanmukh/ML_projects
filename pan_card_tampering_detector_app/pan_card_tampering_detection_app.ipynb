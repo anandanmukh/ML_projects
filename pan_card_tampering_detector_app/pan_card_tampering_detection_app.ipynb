{
 "cells": [
  {
   "cell_type": "markdown",
   "id": "f44d03b8",
   "metadata": {},
   "source": [
    "## Pan Card Tampering Detection App\n",
    "1. In this project, we will detect tampering of Pan Card using CV.\n",
    "2. This project can help different organizations in detecting whether the Pan Card provided is original or not"
   ]
  },
  {
   "cell_type": "markdown",
   "id": "e3c9ff5b",
   "metadata": {},
   "source": [
    "### Process\n",
    "1. Get Images from the User\n",
    "2. Check for size and format of the image\n",
    "3. Change the shape and size of image according to the original image\n",
    "4. Convert the Image to Greyscale\n",
    "5. Find the similarity index of the images\n",
    "6. Finding the threshold of the image\n",
    "7. Finding contour and grab those contours using imutils\n",
    "8. Draw a bounding rectangle using these contours\n",
    "9. Plot difference, threshold, original and tampered image\n",
    "10. Compare all the user ids and "
   ]
  },
  {
   "cell_type": "code",
   "execution_count": 1,
   "id": "d0fc08ad",
   "metadata": {},
   "outputs": [
    {
     "name": "stdout",
     "output_type": "stream",
     "text": [
      "hello\n"
     ]
    }
   ],
   "source": [
    "print('hello')"
   ]
  },
  {
   "cell_type": "code",
   "execution_count": null,
   "id": "66fcc83d",
   "metadata": {},
   "outputs": [],
   "source": []
  }
 ],
 "metadata": {
  "kernelspec": {
   "display_name": "Python 3 (ipykernel)",
   "language": "python",
   "name": "python3"
  },
  "language_info": {
   "codemirror_mode": {
    "name": "ipython",
    "version": 3
   },
   "file_extension": ".py",
   "mimetype": "text/x-python",
   "name": "python",
   "nbconvert_exporter": "python",
   "pygments_lexer": "ipython3",
   "version": "3.11.2"
  }
 },
 "nbformat": 4,
 "nbformat_minor": 5
}

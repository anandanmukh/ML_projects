{
 "cells": [
  {
   "cell_type": "markdown",
   "id": "f44d03b8",
   "metadata": {},
   "source": [
    "## Pan Card Tampering Detection App\n",
    "1. In this project, we will detect tampering of Pan Card using CV.\n",
    "2. This project can help different organizations in detecting whether the Pan Card provided is original or not"
   ]
  },
  {
   "cell_type": "markdown",
   "id": "e3c9ff5b",
   "metadata": {},
   "source": [
    "### Process\n",
    "1. Get Images from the User\n",
    "2. Check for size and format of the image\n",
    "3. Change the shape and size of image according to the original image\n",
    "4. Convert the Image to Greyscale\n",
    "5. Find the similarity index of the images\n",
    "6. Finding the threshold of the image\n",
    "7. Finding contour and grab those contours using imutils\n",
    "8. Draw a bounding rectangle using these contours\n",
    "9. Plot difference, threshold, original and tampered image\n",
    "10. Compare all the images and check the similarity score to decide tampering"
   ]
  },
  {
   "cell_type": "code",
   "execution_count": 2,
   "id": "84d0ea40",
   "metadata": {},
   "outputs": [],
   "source": [
    "# importing the necessary packages\n",
    "from skimage.metrics import structural_similarity\n",
    "import imutils\n",
    "import cv2\n",
    "from PIL import Image\n",
    "import requests"
   ]
  },
  {
   "cell_type": "code",
   "execution_count": null,
   "id": "922983cf",
   "metadata": {},
   "outputs": [],
   "source": [
    "# open image and display\n",
    "# Open image and display\n",
    "original = Image.open(requests.get('https://www.thestatesman.com/wp-content/uploads/2019/07/pan-card.jpg', stream=True).raw)\n",
    "tampered = Image.open(requests.get('https://assets1.cleartax-cdn.com/s/img/20170526124335/Pan4.png', stream=True).raw) "
   ]
  }
 ],
 "metadata": {
  "kernelspec": {
   "display_name": "Python 3 (ipykernel)",
   "language": "python",
   "name": "python3"
  },
  "language_info": {
   "codemirror_mode": {
    "name": "ipython",
    "version": 3
   },
   "file_extension": ".py",
   "mimetype": "text/x-python",
   "name": "python",
   "nbconvert_exporter": "python",
   "pygments_lexer": "ipython3",
   "version": "3.11.2"
  }
 },
 "nbformat": 4,
 "nbformat_minor": 5
}
